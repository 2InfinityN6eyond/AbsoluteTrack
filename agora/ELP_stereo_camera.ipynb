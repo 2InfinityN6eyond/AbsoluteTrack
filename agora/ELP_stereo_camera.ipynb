{
 "cells": [
  {
   "cell_type": "code",
   "execution_count": 1,
   "metadata": {},
   "outputs": [
    {
     "name": "stdout",
     "output_type": "stream",
     "text": [
      "/media/hjp/FAAC278CAC27430D/HJP/KUAICV/Hand/AbsoluteTrack\n"
     ]
    }
   ],
   "source": [
    "cd .."
   ]
  },
  {
   "cell_type": "code",
   "execution_count": 2,
   "metadata": {},
   "outputs": [
    {
     "data": {
      "text/plain": [
       "'/media/hjp/FAAC278CAC27430D/HJP/KUAICV/Hand/AbsoluteTrack'"
      ]
     },
     "execution_count": 2,
     "metadata": {},
     "output_type": "execute_result"
    }
   ],
   "source": [
    "pwd"
   ]
  },
  {
   "cell_type": "code",
   "execution_count": 21,
   "metadata": {},
   "outputs": [],
   "source": [
    "import os\n",
    "import numpy as np\n",
    "import lib.common.camera\n",
    "\n",
    "IMG_WIDTH = 640\n",
    "IMG_HEIGHT = 480\n",
    "\n"
   ]
  },
  {
   "cell_type": "code",
   "execution_count": 39,
   "metadata": {},
   "outputs": [],
   "source": [
    "'''\n",
    "%YAML:1.0\n",
    "---\n",
    "K1: !!opencv-matrix\n",
    "   rows: 3\n",
    "   cols: 3\n",
    "   dt: d\n",
    "   data: [ 2.3877057700850656e+02, 0., 3.1846939219741773e+02, 0.,\n",
    "       2.3903223316525276e+02, 2.4685137381795201e+02, 0., 0., 1. ]\n",
    "K2: !!opencv-matrix\n",
    "   rows: 3\n",
    "   cols: 3\n",
    "   dt: d\n",
    "   data: [ 2.3952183485043457e+02, 0., 3.1286224145189811e+02, 0.,\n",
    "       2.3981379751051574e+02, 2.5158397962108106e+02, 0., 0., 1. ]\n",
    "D1: !!opencv-matrix\n",
    "   rows: 4\n",
    "   cols: 1\n",
    "   dt: d\n",
    "   data: [ -3.7539305827469560e-02, -8.7553205432575471e-03,\n",
    "       2.2015408171895236e-03, -6.6218076061138698e-04 ]\n",
    "D2: !!opencv-matrix\n",
    "   rows: 4\n",
    "   cols: 1\n",
    "   dt: d\n",
    "   data: [ -3.6790400486095221e-02, -8.2041573433038941e-03,\n",
    "       1.0552974220937024e-03, -2.5841665172692902e-04 ]\n",
    "R: !!opencv-matrix\n",
    "   rows: 3\n",
    "   cols: 3\n",
    "   dt: d\n",
    "   data: [ 9.9999267757707777e-01, -5.9888746804658943e-04,\n",
    "       3.7796991979738852e-03, 6.1003792209015034e-04,\n",
    "       9.9999546376609738e-01, -2.9496272580301179e-03,\n",
    "       -3.7779155575739932e-03, 2.9519114194567365e-03,\n",
    "       9.9998850672045803e-01 ]\n",
    "T: !!opencv-matrix\n",
    "   rows: 3\n",
    "   cols: 1\n",
    "   dt: d\n",
    "   data: [ -5.9457914254177978e-02, -6.8318101539255457e-05,\n",
    "       -1.8101725187729225e-04 ]\n",
    "R1: !!opencv-matrix\n",
    "   rows: 3\n",
    "   cols: 3\n",
    "   dt: d\n",
    "   data: [ 9.9997658245714527e-01, 5.5910744958795095e-04,\n",
    "       6.8206990981942916e-03, -5.4903304536865717e-04,\n",
    "       9.9999875583076248e-01, -1.4788169738349651e-03,\n",
    "       -6.8215174296769373e-03, 1.4750375543776898e-03,\n",
    "       9.9997564528550886e-01 ]\n",
    "R2: !!opencv-matrix\n",
    "   rows: 3\n",
    "   cols: 3\n",
    "   dt: d\n",
    "   data: [ 9.9999470555416226e-01, 1.1490100298631428e-03,\n",
    "       3.0444440536135159e-03, -1.1535052313709361e-03,\n",
    "       9.9999824663038117e-01, 1.4751819698614872e-03,\n",
    "       -3.0427437166985561e-03, -1.4786859417328980e-03,\n",
    "       9.9999427758290704e-01 ]\n",
    "P1: !!opencv-matrix\n",
    "   rows: 3\n",
    "   cols: 4\n",
    "   dt: d\n",
    "   data: [ 1.2147550483213526e+02, 0., -1.3989139584901773e+02, 0., 0.,\n",
    "       1.2147550483213526e+02, 2.7504092829903675e+02, 0., 0., 0., 1.,\n",
    "       0. ]\n",
    "P2: !!opencv-matrix\n",
    "   rows: 3\n",
    "   cols: 4\n",
    "   dt: d\n",
    "   data: [ 1.2147550483213526e+02, 0., -1.3989139584901773e+02,\n",
    "       -7.2227183905833998e+00, 0., 1.2147550483213526e+02,\n",
    "       2.7504092829903675e+02, 0., 0., 0., 1., 0. ]\n",
    "Q: !!opencv-matrix\n",
    "   rows: 4\n",
    "   cols: 4\n",
    "   dt: d\n",
    "   data: [ 1., 0., 0., 1.3989139584901773e+02, 0., 1., 0.,\n",
    "       -2.7504092829903675e+02, 0., 0., 0., 1.2147550483213526e+02, 0.,\n",
    "       0., 1.6818529847502933e+01, 0. ]\n",
    "\n",
    "'''\n",
    "IMG_WIDTH = 640\n",
    "IMG_HEIGHT = 480\n",
    "\n",
    "left_to_right_r = np.array([\n",
    "    9.9997658245714527e-01, 5.5910744958795095e-04, 6.8206990981942916e-03,\n",
    "    -5.4903304536865717e-04, 9.9999875583076248e-01, -1.4788169738349651e-03,\n",
    "    -6.8215174296769373e-03, 1.4750375543776898e-03, 9.9997564528550886e-01\n",
    "]).reshape(3, 3)\n",
    "\n",
    "left_to_right_t = np.array([\n",
    "    -5.9457914254177978e-02, -6.8318101539255457e-05, -1.8101725187729225e-04\n",
    "])\n",
    "\n",
    "\n",
    "\n",
    "\n",
    "# k1, k2, k3, k4, p1, p2, k5, k6\n",
    "distortion_coeffs_left = (\n",
    "    -3.7539305827469560e-02, \n",
    "    -8.7553205432575471e-03,\n",
    "    2.2015408171895236e-03, \n",
    "    -6.6218076061138698e-04,\n",
    "    0, 0, 0, 0\n",
    ")\n",
    "camera_to_world_xf_left = np.eye(4)\n",
    "rotation_left = np.array([\n",
    "    [9.9997658245714527e-01,  5.5910744958795095e-04,  6.8206990981942916e-03,],\n",
    "    [-5.4903304536865717e-04, 9.9999875583076248e-01, -1.4788169738349651e-03,],\n",
    "    [-6.8215174296769373e-03, 1.4750375543776898e-03,  9.9997564528550886e-01 ],\n",
    "]).reshape(3, 3)\n",
    "camera_to_world_xf_left[:3, :3] = rotation_left\n",
    "#camera_to_world_xf_left[:3, 3] = [\n",
    "cam_left = lib.common.camera.Fisheye62CameraModel(\n",
    "    width   = IMG_WIDTH,\n",
    "    height  = IMG_HEIGHT,\n",
    "    f       = (2.3877057700850656e+02, 2.3903223316525276e+02),\n",
    "    c       = (3.1846939219741773e+02, 2.4685137381795201e+02),\n",
    "    distort_coeffs = distortion_coeffs_left,\n",
    "    camera_to_world_xf = np.eye(4)\n",
    ")\n",
    "\n",
    "\n",
    "distortion_coeffs_right = (\n",
    "    -3.6790400486095221e-02, \n",
    "    -8.2041573433038941e-03,\n",
    "    1.0552974220937024e-03, \n",
    "    -2.5841665172692902e-04,\n",
    "    0, 0, 0, 0\n",
    ")\n",
    "camera_to_world_xf_right = np.eye(4)\n",
    "rotation_right = np.array([\n",
    "    [9.9999470555416226e-01, 1.1490100298631428e-03, 3.0444440536135159e-03,],\n",
    "    [-1.1535052313709361e-03, 9.9999824663038117e-01, 1.4751819698614872e-03,],\n",
    "    [-3.0427437166985561e-03, -1.4786859417328980e-03, 9.9999427758290704e-01 ],\n",
    "]).reshape(3, 3)\n",
    "camera_to_world_xf_right[:3, :3] = rotation_right\n",
    "camera_to_world_xf_right[:3, 3] = left_to_right_t\n",
    "#camera_to_world_xf_right[:3, 3] = [\n",
    "cam_right = lib.common.camera.Fisheye62CameraModel(\n",
    "    width   = IMG_WIDTH,\n",
    "    height  = IMG_HEIGHT,\n",
    "    f       = (2.3952183485043457e+02, 2.3981379751051574e+02),\n",
    "    c       = (3.1286224145189811e+02, 2.5158397962108106e+02),\n",
    "    distort_coeffs = distortion_coeffs_right,\n",
    "    camera_to_world_xf = camera_to_world_xf_right\n",
    ")"
   ]
  },
  {
   "cell_type": "code",
   "execution_count": 41,
   "metadata": {},
   "outputs": [
    {
     "data": {
      "application/vnd.plotly.v1+json": {
       "config": {
        "plotlyServerURL": "https://plot.ly"
       },
       "data": [
        {
         "line": {
          "color": "blue",
          "width": 2
         },
         "mode": "lines",
         "type": "scatter3d",
         "x": [
          0,
          -0.1339464704628371
         ],
         "y": [
          0,
          -0.1004598528471278
         ],
         "z": [
          0,
          0.1
         ]
        },
        {
         "line": {
          "color": "blue",
          "width": 2
         },
         "mode": "lines",
         "type": "scatter3d",
         "x": [
          0,
          0.1339464704628371
         ],
         "y": [
          0,
          -0.1004598528471278
         ],
         "z": [
          0,
          0.1
         ]
        },
        {
         "line": {
          "color": "blue",
          "width": 2
         },
         "mode": "lines",
         "type": "scatter3d",
         "x": [
          0,
          0.1339464704628371
         ],
         "y": [
          0,
          0.1004598528471278
         ],
         "z": [
          0,
          0.1
         ]
        },
        {
         "line": {
          "color": "blue",
          "width": 2
         },
         "mode": "lines",
         "type": "scatter3d",
         "x": [
          0,
          -0.1339464704628371
         ],
         "y": [
          0,
          0.1004598528471278
         ],
         "z": [
          0,
          0.1
         ]
        },
        {
         "line": {
          "color": "blue",
          "width": 2
         },
         "mode": "lines",
         "type": "scatter3d",
         "x": [
          0,
          0.1339464704628371
         ],
         "y": [
          0,
          -0.1004598528471278
         ],
         "z": [
          0,
          0.1
         ]
        },
        {
         "line": {
          "color": "blue",
          "width": 2
         },
         "mode": "lines",
         "type": "scatter3d",
         "x": [
          -0.1339464704628371,
          0.1339464704628371
         ],
         "y": [
          -0.1004598528471278,
          0.1004598528471278
         ],
         "z": [
          0.1,
          0.1
         ]
        },
        {
         "line": {
          "color": "blue",
          "width": 2
         },
         "mode": "lines",
         "type": "scatter3d",
         "x": [
          0.1339464704628371,
          -0.1339464704628371
         ],
         "y": [
          -0.1004598528471278,
          0.1004598528471278
         ],
         "z": [
          0.1,
          0.1
         ]
        },
        {
         "line": {
          "color": "blue",
          "width": 2
         },
         "mode": "lines",
         "type": "scatter3d",
         "x": [
          0.1339464704628371,
          -0.1339464704628371
         ],
         "y": [
          0.1004598528471278,
          -0.1004598528471278
         ],
         "z": [
          0.1,
          0.1
         ]
        },
        {
         "marker": {
          "color": "blue",
          "size": 5
         },
         "mode": "markers",
         "type": "scatter3d",
         "x": [
          0
         ],
         "y": [
          0
         ],
         "z": [
          0
         ]
        },
        {
         "line": {
          "color": "red",
          "width": 2
         },
         "mode": "lines",
         "type": "scatter3d",
         "x": [
          -0.05945791425417798,
          -0.19278595888661287
         ],
         "y": [
          -0.00006831810153925546,
          -0.09990521221997464
         ],
         "z": [
          -0.00018101725187729225,
          0.10037274551748517
         ]
        },
        {
         "line": {
          "color": "red",
          "width": 2
         },
         "mode": "lines",
         "type": "scatter3d",
         "x": [
          -0.05945791425417798,
          0.07424889867337436
         ],
         "y": [
          -0.00006831810153925546,
          -0.10021323995596465
         ],
         "z": [
          -0.00018101725187729225,
          0.09956022258064633
         ]
        },
        {
         "line": {
          "color": "red",
          "width": 2
         },
         "mode": "lines",
         "type": "scatter3d",
         "x": [
          -0.05945791425417798,
          0.07447901918897959
         ],
         "y": [
          -0.00006831810153925546,
          0.10006361241086842
         ],
         "z": [
          -0.00018101725187729225,
          0.09926407549534168
         ]
        },
        {
         "line": {
          "color": "red",
          "width": 2
         },
         "mode": "lines",
         "type": "scatter3d",
         "x": [
          -0.05945791425417798,
          -0.19255583837100765
         ],
         "y": [
          -0.00006831810153925546,
          0.10037164014685843
         ],
         "z": [
          -0.00018101725187729225,
          0.1000765984321805
         ]
        },
        {
         "line": {
          "color": "red",
          "width": 2
         },
         "mode": "lines",
         "type": "scatter3d",
         "x": [
          -0.05945791425417798,
          0.07424889867337436
         ],
         "y": [
          -0.00006831810153925546,
          -0.10021323995596465
         ],
         "z": [
          -0.00018101725187729225,
          0.09956022258064633
         ]
        },
        {
         "line": {
          "color": "red",
          "width": 2
         },
         "mode": "lines",
         "type": "scatter3d",
         "x": [
          -0.19278595888661287,
          0.07447901918897959
         ],
         "y": [
          -0.09990521221997464,
          0.10006361241086842
         ],
         "z": [
          0.10037274551748517,
          0.09926407549534168
         ]
        },
        {
         "line": {
          "color": "red",
          "width": 2
         },
         "mode": "lines",
         "type": "scatter3d",
         "x": [
          0.07424889867337436,
          -0.19255583837100765
         ],
         "y": [
          -0.10021323995596465,
          0.10037164014685843
         ],
         "z": [
          0.09956022258064633,
          0.1000765984321805
         ]
        },
        {
         "line": {
          "color": "red",
          "width": 2
         },
         "mode": "lines",
         "type": "scatter3d",
         "x": [
          0.07447901918897959,
          -0.19278595888661287
         ],
         "y": [
          0.10006361241086842,
          -0.09990521221997464
         ],
         "z": [
          0.09926407549534168,
          0.10037274551748517
         ]
        },
        {
         "marker": {
          "color": "red",
          "size": 5
         },
         "mode": "markers",
         "type": "scatter3d",
         "x": [
          -0.05945791425417798
         ],
         "y": [
          -0.00006831810153925546
         ],
         "z": [
          -0.00018101725187729225
         ]
        }
       ],
       "layout": {
        "scene": {
         "aspectmode": "data",
         "xaxis": {
          "title": {
           "text": "X"
          }
         },
         "yaxis": {
          "title": {
           "text": "Y"
          }
         },
         "zaxis": {
          "title": {
           "text": "Z"
          }
         }
        },
        "showlegend": false,
        "template": {
         "data": {
          "bar": [
           {
            "error_x": {
             "color": "#2a3f5f"
            },
            "error_y": {
             "color": "#2a3f5f"
            },
            "marker": {
             "line": {
              "color": "#E5ECF6",
              "width": 0.5
             },
             "pattern": {
              "fillmode": "overlay",
              "size": 10,
              "solidity": 0.2
             }
            },
            "type": "bar"
           }
          ],
          "barpolar": [
           {
            "marker": {
             "line": {
              "color": "#E5ECF6",
              "width": 0.5
             },
             "pattern": {
              "fillmode": "overlay",
              "size": 10,
              "solidity": 0.2
             }
            },
            "type": "barpolar"
           }
          ],
          "carpet": [
           {
            "aaxis": {
             "endlinecolor": "#2a3f5f",
             "gridcolor": "white",
             "linecolor": "white",
             "minorgridcolor": "white",
             "startlinecolor": "#2a3f5f"
            },
            "baxis": {
             "endlinecolor": "#2a3f5f",
             "gridcolor": "white",
             "linecolor": "white",
             "minorgridcolor": "white",
             "startlinecolor": "#2a3f5f"
            },
            "type": "carpet"
           }
          ],
          "choropleth": [
           {
            "colorbar": {
             "outlinewidth": 0,
             "ticks": ""
            },
            "type": "choropleth"
           }
          ],
          "contour": [
           {
            "colorbar": {
             "outlinewidth": 0,
             "ticks": ""
            },
            "colorscale": [
             [
              0,
              "#0d0887"
             ],
             [
              0.1111111111111111,
              "#46039f"
             ],
             [
              0.2222222222222222,
              "#7201a8"
             ],
             [
              0.3333333333333333,
              "#9c179e"
             ],
             [
              0.4444444444444444,
              "#bd3786"
             ],
             [
              0.5555555555555556,
              "#d8576b"
             ],
             [
              0.6666666666666666,
              "#ed7953"
             ],
             [
              0.7777777777777778,
              "#fb9f3a"
             ],
             [
              0.8888888888888888,
              "#fdca26"
             ],
             [
              1,
              "#f0f921"
             ]
            ],
            "type": "contour"
           }
          ],
          "contourcarpet": [
           {
            "colorbar": {
             "outlinewidth": 0,
             "ticks": ""
            },
            "type": "contourcarpet"
           }
          ],
          "heatmap": [
           {
            "colorbar": {
             "outlinewidth": 0,
             "ticks": ""
            },
            "colorscale": [
             [
              0,
              "#0d0887"
             ],
             [
              0.1111111111111111,
              "#46039f"
             ],
             [
              0.2222222222222222,
              "#7201a8"
             ],
             [
              0.3333333333333333,
              "#9c179e"
             ],
             [
              0.4444444444444444,
              "#bd3786"
             ],
             [
              0.5555555555555556,
              "#d8576b"
             ],
             [
              0.6666666666666666,
              "#ed7953"
             ],
             [
              0.7777777777777778,
              "#fb9f3a"
             ],
             [
              0.8888888888888888,
              "#fdca26"
             ],
             [
              1,
              "#f0f921"
             ]
            ],
            "type": "heatmap"
           }
          ],
          "heatmapgl": [
           {
            "colorbar": {
             "outlinewidth": 0,
             "ticks": ""
            },
            "colorscale": [
             [
              0,
              "#0d0887"
             ],
             [
              0.1111111111111111,
              "#46039f"
             ],
             [
              0.2222222222222222,
              "#7201a8"
             ],
             [
              0.3333333333333333,
              "#9c179e"
             ],
             [
              0.4444444444444444,
              "#bd3786"
             ],
             [
              0.5555555555555556,
              "#d8576b"
             ],
             [
              0.6666666666666666,
              "#ed7953"
             ],
             [
              0.7777777777777778,
              "#fb9f3a"
             ],
             [
              0.8888888888888888,
              "#fdca26"
             ],
             [
              1,
              "#f0f921"
             ]
            ],
            "type": "heatmapgl"
           }
          ],
          "histogram": [
           {
            "marker": {
             "pattern": {
              "fillmode": "overlay",
              "size": 10,
              "solidity": 0.2
             }
            },
            "type": "histogram"
           }
          ],
          "histogram2d": [
           {
            "colorbar": {
             "outlinewidth": 0,
             "ticks": ""
            },
            "colorscale": [
             [
              0,
              "#0d0887"
             ],
             [
              0.1111111111111111,
              "#46039f"
             ],
             [
              0.2222222222222222,
              "#7201a8"
             ],
             [
              0.3333333333333333,
              "#9c179e"
             ],
             [
              0.4444444444444444,
              "#bd3786"
             ],
             [
              0.5555555555555556,
              "#d8576b"
             ],
             [
              0.6666666666666666,
              "#ed7953"
             ],
             [
              0.7777777777777778,
              "#fb9f3a"
             ],
             [
              0.8888888888888888,
              "#fdca26"
             ],
             [
              1,
              "#f0f921"
             ]
            ],
            "type": "histogram2d"
           }
          ],
          "histogram2dcontour": [
           {
            "colorbar": {
             "outlinewidth": 0,
             "ticks": ""
            },
            "colorscale": [
             [
              0,
              "#0d0887"
             ],
             [
              0.1111111111111111,
              "#46039f"
             ],
             [
              0.2222222222222222,
              "#7201a8"
             ],
             [
              0.3333333333333333,
              "#9c179e"
             ],
             [
              0.4444444444444444,
              "#bd3786"
             ],
             [
              0.5555555555555556,
              "#d8576b"
             ],
             [
              0.6666666666666666,
              "#ed7953"
             ],
             [
              0.7777777777777778,
              "#fb9f3a"
             ],
             [
              0.8888888888888888,
              "#fdca26"
             ],
             [
              1,
              "#f0f921"
             ]
            ],
            "type": "histogram2dcontour"
           }
          ],
          "mesh3d": [
           {
            "colorbar": {
             "outlinewidth": 0,
             "ticks": ""
            },
            "type": "mesh3d"
           }
          ],
          "parcoords": [
           {
            "line": {
             "colorbar": {
              "outlinewidth": 0,
              "ticks": ""
             }
            },
            "type": "parcoords"
           }
          ],
          "pie": [
           {
            "automargin": true,
            "type": "pie"
           }
          ],
          "scatter": [
           {
            "fillpattern": {
             "fillmode": "overlay",
             "size": 10,
             "solidity": 0.2
            },
            "type": "scatter"
           }
          ],
          "scatter3d": [
           {
            "line": {
             "colorbar": {
              "outlinewidth": 0,
              "ticks": ""
             }
            },
            "marker": {
             "colorbar": {
              "outlinewidth": 0,
              "ticks": ""
             }
            },
            "type": "scatter3d"
           }
          ],
          "scattercarpet": [
           {
            "marker": {
             "colorbar": {
              "outlinewidth": 0,
              "ticks": ""
             }
            },
            "type": "scattercarpet"
           }
          ],
          "scattergeo": [
           {
            "marker": {
             "colorbar": {
              "outlinewidth": 0,
              "ticks": ""
             }
            },
            "type": "scattergeo"
           }
          ],
          "scattergl": [
           {
            "marker": {
             "colorbar": {
              "outlinewidth": 0,
              "ticks": ""
             }
            },
            "type": "scattergl"
           }
          ],
          "scattermapbox": [
           {
            "marker": {
             "colorbar": {
              "outlinewidth": 0,
              "ticks": ""
             }
            },
            "type": "scattermapbox"
           }
          ],
          "scatterpolar": [
           {
            "marker": {
             "colorbar": {
              "outlinewidth": 0,
              "ticks": ""
             }
            },
            "type": "scatterpolar"
           }
          ],
          "scatterpolargl": [
           {
            "marker": {
             "colorbar": {
              "outlinewidth": 0,
              "ticks": ""
             }
            },
            "type": "scatterpolargl"
           }
          ],
          "scatterternary": [
           {
            "marker": {
             "colorbar": {
              "outlinewidth": 0,
              "ticks": ""
             }
            },
            "type": "scatterternary"
           }
          ],
          "surface": [
           {
            "colorbar": {
             "outlinewidth": 0,
             "ticks": ""
            },
            "colorscale": [
             [
              0,
              "#0d0887"
             ],
             [
              0.1111111111111111,
              "#46039f"
             ],
             [
              0.2222222222222222,
              "#7201a8"
             ],
             [
              0.3333333333333333,
              "#9c179e"
             ],
             [
              0.4444444444444444,
              "#bd3786"
             ],
             [
              0.5555555555555556,
              "#d8576b"
             ],
             [
              0.6666666666666666,
              "#ed7953"
             ],
             [
              0.7777777777777778,
              "#fb9f3a"
             ],
             [
              0.8888888888888888,
              "#fdca26"
             ],
             [
              1,
              "#f0f921"
             ]
            ],
            "type": "surface"
           }
          ],
          "table": [
           {
            "cells": {
             "fill": {
              "color": "#EBF0F8"
             },
             "line": {
              "color": "white"
             }
            },
            "header": {
             "fill": {
              "color": "#C8D4E3"
             },
             "line": {
              "color": "white"
             }
            },
            "type": "table"
           }
          ]
         },
         "layout": {
          "annotationdefaults": {
           "arrowcolor": "#2a3f5f",
           "arrowhead": 0,
           "arrowwidth": 1
          },
          "autotypenumbers": "strict",
          "coloraxis": {
           "colorbar": {
            "outlinewidth": 0,
            "ticks": ""
           }
          },
          "colorscale": {
           "diverging": [
            [
             0,
             "#8e0152"
            ],
            [
             0.1,
             "#c51b7d"
            ],
            [
             0.2,
             "#de77ae"
            ],
            [
             0.3,
             "#f1b6da"
            ],
            [
             0.4,
             "#fde0ef"
            ],
            [
             0.5,
             "#f7f7f7"
            ],
            [
             0.6,
             "#e6f5d0"
            ],
            [
             0.7,
             "#b8e186"
            ],
            [
             0.8,
             "#7fbc41"
            ],
            [
             0.9,
             "#4d9221"
            ],
            [
             1,
             "#276419"
            ]
           ],
           "sequential": [
            [
             0,
             "#0d0887"
            ],
            [
             0.1111111111111111,
             "#46039f"
            ],
            [
             0.2222222222222222,
             "#7201a8"
            ],
            [
             0.3333333333333333,
             "#9c179e"
            ],
            [
             0.4444444444444444,
             "#bd3786"
            ],
            [
             0.5555555555555556,
             "#d8576b"
            ],
            [
             0.6666666666666666,
             "#ed7953"
            ],
            [
             0.7777777777777778,
             "#fb9f3a"
            ],
            [
             0.8888888888888888,
             "#fdca26"
            ],
            [
             1,
             "#f0f921"
            ]
           ],
           "sequentialminus": [
            [
             0,
             "#0d0887"
            ],
            [
             0.1111111111111111,
             "#46039f"
            ],
            [
             0.2222222222222222,
             "#7201a8"
            ],
            [
             0.3333333333333333,
             "#9c179e"
            ],
            [
             0.4444444444444444,
             "#bd3786"
            ],
            [
             0.5555555555555556,
             "#d8576b"
            ],
            [
             0.6666666666666666,
             "#ed7953"
            ],
            [
             0.7777777777777778,
             "#fb9f3a"
            ],
            [
             0.8888888888888888,
             "#fdca26"
            ],
            [
             1,
             "#f0f921"
            ]
           ]
          },
          "colorway": [
           "#636efa",
           "#EF553B",
           "#00cc96",
           "#ab63fa",
           "#FFA15A",
           "#19d3f3",
           "#FF6692",
           "#B6E880",
           "#FF97FF",
           "#FECB52"
          ],
          "font": {
           "color": "#2a3f5f"
          },
          "geo": {
           "bgcolor": "white",
           "lakecolor": "white",
           "landcolor": "#E5ECF6",
           "showlakes": true,
           "showland": true,
           "subunitcolor": "white"
          },
          "hoverlabel": {
           "align": "left"
          },
          "hovermode": "closest",
          "mapbox": {
           "style": "light"
          },
          "paper_bgcolor": "white",
          "plot_bgcolor": "#E5ECF6",
          "polar": {
           "angularaxis": {
            "gridcolor": "white",
            "linecolor": "white",
            "ticks": ""
           },
           "bgcolor": "#E5ECF6",
           "radialaxis": {
            "gridcolor": "white",
            "linecolor": "white",
            "ticks": ""
           }
          },
          "scene": {
           "xaxis": {
            "backgroundcolor": "#E5ECF6",
            "gridcolor": "white",
            "gridwidth": 2,
            "linecolor": "white",
            "showbackground": true,
            "ticks": "",
            "zerolinecolor": "white"
           },
           "yaxis": {
            "backgroundcolor": "#E5ECF6",
            "gridcolor": "white",
            "gridwidth": 2,
            "linecolor": "white",
            "showbackground": true,
            "ticks": "",
            "zerolinecolor": "white"
           },
           "zaxis": {
            "backgroundcolor": "#E5ECF6",
            "gridcolor": "white",
            "gridwidth": 2,
            "linecolor": "white",
            "showbackground": true,
            "ticks": "",
            "zerolinecolor": "white"
           }
          },
          "shapedefaults": {
           "line": {
            "color": "#2a3f5f"
           }
          },
          "ternary": {
           "aaxis": {
            "gridcolor": "white",
            "linecolor": "white",
            "ticks": ""
           },
           "baxis": {
            "gridcolor": "white",
            "linecolor": "white",
            "ticks": ""
           },
           "bgcolor": "#E5ECF6",
           "caxis": {
            "gridcolor": "white",
            "linecolor": "white",
            "ticks": ""
           }
          },
          "title": {
           "x": 0.05
          },
          "xaxis": {
           "automargin": true,
           "gridcolor": "white",
           "linecolor": "white",
           "ticks": "",
           "title": {
            "standoff": 15
           },
           "zerolinecolor": "white",
           "zerolinewidth": 2
          },
          "yaxis": {
           "automargin": true,
           "gridcolor": "white",
           "linecolor": "white",
           "ticks": "",
           "title": {
            "standoff": 15
           },
           "zerolinecolor": "white",
           "zerolinewidth": 2
          }
         }
        },
        "title": {
         "text": "Stereo Camera Visualization"
        }
       }
      }
     },
     "metadata": {},
     "output_type": "display_data"
    }
   ],
   "source": [
    "import plotly.graph_objects as go\n",
    "import numpy as np\n",
    "\n",
    "# Use the already defined IMG_WIDTH, IMG_HEIGHT, and camera models (cam_left, cam_right)\n",
    "\n",
    "def create_camera_visualization(camera_model, color):\n",
    "    # Extract camera parameters\n",
    "    f = camera_model.f\n",
    "    c = camera_model.c\n",
    "    camera_to_world_xf = camera_model.camera_to_world_xf\n",
    "\n",
    "    # Create camera frustum\n",
    "    focal_length = (f[0] + f[1]) / 2\n",
    "    frustum_length = 0.1  # Adjust this value to change the size of the frustum\n",
    "    frustum_points = np.array([\n",
    "        [0, 0, 0],\n",
    "        [-IMG_WIDTH/2/focal_length, -IMG_HEIGHT/2/focal_length, 1],\n",
    "        [IMG_WIDTH/2/focal_length, -IMG_HEIGHT/2/focal_length, 1],\n",
    "        [IMG_WIDTH/2/focal_length, IMG_HEIGHT/2/focal_length, 1],\n",
    "        [-IMG_WIDTH/2/focal_length, IMG_HEIGHT/2/focal_length, 1]\n",
    "    ]) * frustum_length\n",
    "\n",
    "    # Transform frustum points to world coordinates\n",
    "    frustum_points = np.hstack((frustum_points, np.ones((5, 1))))\n",
    "    frustum_points = (camera_to_world_xf @ frustum_points.T).T[:, :3]\n",
    "\n",
    "    # Create lines for camera frustum\n",
    "    lines = []\n",
    "    for i in range(1, 5):\n",
    "        lines.append(go.Scatter3d(x=[frustum_points[0, 0], frustum_points[i, 0]],\n",
    "                                  y=[frustum_points[0, 1], frustum_points[i, 1]],\n",
    "                                  z=[frustum_points[0, 2], frustum_points[i, 2]],\n",
    "                                  mode='lines',\n",
    "                                  line=dict(color=color, width=2)))\n",
    "\n",
    "    for i in range(4):\n",
    "        j = (i + 1) % 4 + 1\n",
    "        lines.append(go.Scatter3d(x=[frustum_points[i, 0], frustum_points[j, 0]],\n",
    "                                  y=[frustum_points[i, 1], frustum_points[j, 1]],\n",
    "                                  z=[frustum_points[i, 2], frustum_points[j, 2]],\n",
    "                                  mode='lines',\n",
    "                                  line=dict(color=color, width=2)))\n",
    "\n",
    "    # Create camera center point\n",
    "    camera_center = go.Scatter3d(x=[camera_to_world_xf[0, 3]],\n",
    "                                 y=[camera_to_world_xf[1, 3]],\n",
    "                                 z=[camera_to_world_xf[2, 3]],\n",
    "                                 mode='markers',\n",
    "                                 marker=dict(size=5, color=color))\n",
    "\n",
    "    return lines + [camera_center]\n",
    "\n",
    "# Create visualization\n",
    "fig = go.Figure()\n",
    "\n",
    "# Add left camera visualization\n",
    "left_camera_vis = create_camera_visualization(cam_left, 'blue')\n",
    "fig.add_traces(left_camera_vis)\n",
    "\n",
    "# Add right camera visualization\n",
    "right_camera_vis = create_camera_visualization(cam_right, 'red')\n",
    "fig.add_traces(right_camera_vis)\n",
    "\n",
    "# Set layout\n",
    "fig.update_layout(\n",
    "    scene=dict(\n",
    "        xaxis_title='X',\n",
    "        yaxis_title='Y',\n",
    "        zaxis_title='Z',\n",
    "        aspectmode='data'\n",
    "    ),\n",
    "    title='Stereo Camera Visualization',\n",
    "    showlegend=False\n",
    ")\n",
    "\n",
    "# Add text annotations for left and right cameras\n",
    "# fig.add_annotation(\n",
    "#     x=cam_left.camera_to_world_xf[0, 3],\n",
    "#     y=cam_left.camera_to_world_xf[1, 3],\n",
    "#     z=cam_left.camera_to_world_xf[2, 3],\n",
    "#     text=\"Left Camera\",\n",
    "#     showarrow=True,\n",
    "#     arrowhead=2,\n",
    "#     arrowsize=1,\n",
    "#     arrowwidth=2,\n",
    "#     arrowcolor='blue'\n",
    "# )\n",
    "\n",
    "# fig.add_annotation(\n",
    "#     x=cam_right.camera_to_world_xf[0, 3],\n",
    "#     y=cam_right.camera_to_world_xf[1, 3],\n",
    "#     z=cam_right.camera_to_world_xf[2, 3],\n",
    "#     text=\"Right Camera\",\n",
    "#     showarrow=True,\n",
    "#     arrowhead=2,\n",
    "#     arrowsize=1,\n",
    "#     arrowwidth=2,\n",
    "#     arrowcolor='red'\n",
    "# )\n",
    "\n",
    "# Show plot\n",
    "fig.show()\n"
   ]
  },
  {
   "cell_type": "code",
   "execution_count": 27,
   "metadata": {},
   "outputs": [],
   "source": [
    "left_to_right_r = np.array([\n",
    "    9.9997658245714527e-01, 5.5910744958795095e-04, 6.8206990981942916e-03,\n",
    "    -5.4903304536865717e-04, 9.9999875583076248e-01, -1.4788169738349651e-03,\n",
    "    -6.8215174296769373e-03, 1.4750375543776898e-03, 9.9997564528550886e-01\n",
    "]).reshape(3, 3)\n",
    "left_to_right_t = np.array([\n",
    "    -5.9457914254177978e-02, -6.8318101539255457e-05, -1.8101725187729225e-04\n",
    "])\n",
    "\n",
    "left_to_right_xf = np.eye(4)\n",
    "left_to_right_xf[:3, :3] = left_to_right_r\n",
    "left_to_right_xf[:3, 3] = left_to_right_t"
   ]
  },
  {
   "cell_type": "code",
   "execution_count": 32,
   "metadata": {},
   "outputs": [
    {
     "name": "stdout",
     "output_type": "stream",
     "text": [
      "[[ 9.99906331e-01  1.12826190e-03  1.36402455e-02 -5.94579143e-02]\n",
      " [-1.08796477e-03  9.99995023e-01 -2.96134088e-03 -6.83181015e-05]\n",
      " [-1.36435188e-02  2.94622339e-03  9.99902582e-01 -1.81017252e-04]\n",
      " [ 0.00000000e+00  0.00000000e+00  0.00000000e+00  1.00000000e+00]]\n",
      "[[ 0.99999471  0.00114901  0.00304444  0.        ]\n",
      " [-0.00115351  0.99999825  0.00147518  0.        ]\n",
      " [-0.00304274 -0.00147869  0.99999428  0.        ]\n",
      " [ 0.          0.          0.          1.        ]]\n",
      "[[ 9.99949890e-01  1.71260376e-03  9.86333372e-03 -5.94582291e-02]\n",
      " [-1.71257328e-03  9.99998533e-01 -1.15360508e-05  2.37969142e-17]\n",
      " [-9.86333901e-03 -5.35620908e-06  9.99951356e-01  1.37531046e-16]\n",
      " [ 0.00000000e+00  0.00000000e+00  0.00000000e+00  1.00000000e+00]]\n"
     ]
    }
   ],
   "source": [
    "print(left_to_right_xf @ camera_to_world_xf_left)\n",
    "print(camera_to_world_xf_right)\n",
    "print(camera_to_world_xf_right @ left_to_right_xf)"
   ]
  },
  {
   "cell_type": "code",
   "execution_count": 38,
   "metadata": {},
   "outputs": [
    {
     "name": "stdout",
     "output_type": "stream",
     "text": [
      "[[ 9.99976582e-01  5.59107450e-04  6.82069910e-03]\n",
      " [-5.49033045e-04  9.99998756e-01 -1.47881697e-03]\n",
      " [-6.82151743e-03  1.47503755e-03  9.99975645e-01]]\n",
      "\n",
      "[[ 0.99990633  0.00112826  0.01364025]\n",
      " [-0.00108796  0.99999502 -0.00296134]\n",
      " [-0.01364352  0.00294622  0.99990258]]\n",
      "\n",
      "[[ 0.99999471  0.00114901  0.00304444]\n",
      " [-0.00115351  0.99999825  0.00147518]\n",
      " [-0.00304274 -0.00147869  0.99999428]]\n",
      "\n",
      "[[ 0.99990633  0.00112826  0.01364025]\n",
      " [-0.00108796  0.99999502 -0.00296134]\n",
      " [-0.01364352  0.00294622  0.99990258]]\n"
     ]
    }
   ],
   "source": [
    "print(rotation_left)\n",
    "print()\n",
    "print(left_to_right_r @ rotation_left)\n",
    "print()\n",
    "print(rotation_right)\n",
    "print()\n",
    "print(rotation_left @ left_to_right_r)"
   ]
  },
  {
   "cell_type": "code",
   "execution_count": 19,
   "metadata": {},
   "outputs": [],
   "source": [
    "\n",
    "from lib.models.model_loader import load_pretrained_model\n",
    "from lib.tracker.tracker import HandTracker, HandTrackerOpts, InputFrame, ViewData\n"
   ]
  },
  {
   "cell_type": "code",
   "execution_count": 22,
   "metadata": {},
   "outputs": [],
   "source": [
    "model_name = \"pretrained_weights.torch\"\n",
    "model_path = os.path.join(\".\", \"pretrained_models\", model_name)\n",
    "model = load_pretrained_model(model_path)\n",
    "model.eval()\n",
    "tracker = HandTracker(model, HandTrackerOpts())"
   ]
  },
  {
   "cell_type": "code",
   "execution_count": null,
   "metadata": {},
   "outputs": [],
   "source": [
    "tracker."
   ]
  },
  {
   "cell_type": "code",
   "execution_count": null,
   "metadata": {},
   "outputs": [],
   "source": []
  },
  {
   "cell_type": "code",
   "execution_count": null,
   "metadata": {},
   "outputs": [],
   "source": []
  },
  {
   "cell_type": "code",
   "execution_count": null,
   "metadata": {},
   "outputs": [],
   "source": []
  }
 ],
 "metadata": {
  "kernelspec": {
   "display_name": "umetrack",
   "language": "python",
   "name": "python3"
  },
  "language_info": {
   "codemirror_mode": {
    "name": "ipython",
    "version": 3
   },
   "file_extension": ".py",
   "mimetype": "text/x-python",
   "name": "python",
   "nbconvert_exporter": "python",
   "pygments_lexer": "ipython3",
   "version": "3.9.12"
  }
 },
 "nbformat": 4,
 "nbformat_minor": 2
}
