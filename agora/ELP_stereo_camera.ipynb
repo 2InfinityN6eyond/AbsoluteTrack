{
 "cells": [
  {
   "cell_type": "code",
   "execution_count": 1,
   "metadata": {},
   "outputs": [
    {
     "name": "stdout",
     "output_type": "stream",
     "text": [
      "/media/hjp/FAAC278CAC27430D/HJP/KUAICV/Hand/AbsoluteTrack\n"
     ]
    }
   ],
   "source": [
    "cd .."
   ]
  },
  {
   "cell_type": "code",
   "execution_count": 2,
   "metadata": {},
   "outputs": [
    {
     "data": {
      "text/plain": [
       "'/media/hjp/FAAC278CAC27430D/HJP/KUAICV/Hand/AbsoluteTrack'"
      ]
     },
     "execution_count": 2,
     "metadata": {},
     "output_type": "execute_result"
    }
   ],
   "source": [
    "pwd"
   ]
  },
  {
   "cell_type": "code",
   "execution_count": 21,
   "metadata": {},
   "outputs": [],
   "source": [
    "import os\n",
    "import numpy as np\n",
    "import lib.common.camera\n",
    "\n",
    "IMG_WIDTH = 640\n",
    "IMG_HEIGHT = 480\n",
    "\n"
   ]
  },
  {
   "cell_type": "code",
   "execution_count": 18,
   "metadata": {},
   "outputs": [],
   "source": [
    "'''\n",
    "%YAML:1.0\n",
    "---\n",
    "K1: !!opencv-matrix\n",
    "   rows: 3\n",
    "   cols: 3\n",
    "   dt: d\n",
    "   data: [ 2.3877057700850656e+02, 0., 3.1846939219741773e+02, 0.,\n",
    "       2.3903223316525276e+02, 2.4685137381795201e+02, 0., 0., 1. ]\n",
    "K2: !!opencv-matrix\n",
    "   rows: 3\n",
    "   cols: 3\n",
    "   dt: d\n",
    "   data: [ 2.3952183485043457e+02, 0., 3.1286224145189811e+02, 0.,\n",
    "       2.3981379751051574e+02, 2.5158397962108106e+02, 0., 0., 1. ]\n",
    "D1: !!opencv-matrix\n",
    "   rows: 4\n",
    "   cols: 1\n",
    "   dt: d\n",
    "   data: [ -3.7539305827469560e-02, -8.7553205432575471e-03,\n",
    "       2.2015408171895236e-03, -6.6218076061138698e-04 ]\n",
    "D2: !!opencv-matrix\n",
    "   rows: 4\n",
    "   cols: 1\n",
    "   dt: d\n",
    "   data: [ -3.6790400486095221e-02, -8.2041573433038941e-03,\n",
    "       1.0552974220937024e-03, -2.5841665172692902e-04 ]\n",
    "R: !!opencv-matrix\n",
    "   rows: 3\n",
    "   cols: 3\n",
    "   dt: d\n",
    "   data: [ 9.9999267757707777e-01, -5.9888746804658943e-04,\n",
    "       3.7796991979738852e-03, 6.1003792209015034e-04,\n",
    "       9.9999546376609738e-01, -2.9496272580301179e-03,\n",
    "       -3.7779155575739932e-03, 2.9519114194567365e-03,\n",
    "       9.9998850672045803e-01 ]\n",
    "T: !!opencv-matrix\n",
    "   rows: 3\n",
    "   cols: 1\n",
    "   dt: d\n",
    "   data: [ -5.9457914254177978e-02, -6.8318101539255457e-05,\n",
    "       -1.8101725187729225e-04 ]\n",
    "R1: !!opencv-matrix\n",
    "   rows: 3\n",
    "   cols: 3\n",
    "   dt: d\n",
    "   data: [ 9.9997658245714527e-01, 5.5910744958795095e-04,\n",
    "       6.8206990981942916e-03, -5.4903304536865717e-04,\n",
    "       9.9999875583076248e-01, -1.4788169738349651e-03,\n",
    "       -6.8215174296769373e-03, 1.4750375543776898e-03,\n",
    "       9.9997564528550886e-01 ]\n",
    "R2: !!opencv-matrix\n",
    "   rows: 3\n",
    "   cols: 3\n",
    "   dt: d\n",
    "   data: [ 9.9999470555416226e-01, 1.1490100298631428e-03,\n",
    "       3.0444440536135159e-03, -1.1535052313709361e-03,\n",
    "       9.9999824663038117e-01, 1.4751819698614872e-03,\n",
    "       -3.0427437166985561e-03, -1.4786859417328980e-03,\n",
    "       9.9999427758290704e-01 ]\n",
    "P1: !!opencv-matrix\n",
    "   rows: 3\n",
    "   cols: 4\n",
    "   dt: d\n",
    "   data: [ 1.2147550483213526e+02, 0., -1.3989139584901773e+02, 0., 0.,\n",
    "       1.2147550483213526e+02, 2.7504092829903675e+02, 0., 0., 0., 1.,\n",
    "       0. ]\n",
    "P2: !!opencv-matrix\n",
    "   rows: 3\n",
    "   cols: 4\n",
    "   dt: d\n",
    "   data: [ 1.2147550483213526e+02, 0., -1.3989139584901773e+02,\n",
    "       -7.2227183905833998e+00, 0., 1.2147550483213526e+02,\n",
    "       2.7504092829903675e+02, 0., 0., 0., 1., 0. ]\n",
    "Q: !!opencv-matrix\n",
    "   rows: 4\n",
    "   cols: 4\n",
    "   dt: d\n",
    "   data: [ 1., 0., 0., 1.3989139584901773e+02, 0., 1., 0.,\n",
    "       -2.7504092829903675e+02, 0., 0., 0., 1.2147550483213526e+02, 0.,\n",
    "       0., 1.6818529847502933e+01, 0. ]\n",
    "\n",
    "'''\n",
    "IMG_WIDTH = 640\n",
    "IMG_HEIGHT = 480\n",
    "\n",
    "# k1, k2, k3, k4, p1, p2, k5, k6\n",
    "distortion_coeffs_left = (\n",
    "    -3.7539305827469560e-02, \n",
    "    -8.7553205432575471e-03,\n",
    "    2.2015408171895236e-03, \n",
    "    -6.6218076061138698e-04,\n",
    "    0, 0, 0, 0\n",
    ")\n",
    "camera_to_world_xf_left = np.zeros((4, 4))\n",
    "camera_to_world_xf_left[:3, :3] = [\n",
    "    [9.9997658245714527e-01,  5.5910744958795095e-04,  6.8206990981942916e-03,],\n",
    "    [-5.4903304536865717e-04, 9.9999875583076248e-01, -1.4788169738349651e-03,],\n",
    "    [-6.8215174296769373e-03, 1.4750375543776898e-03,  9.9997564528550886e-01 ],\n",
    "]\n",
    "#camera_to_world_xf_left[:3, 3] = [\n",
    "cam_left = lib.common.camera.Fisheye62CameraModel(\n",
    "    width   = IMG_WIDTH,\n",
    "    height  = IMG_HEIGHT,\n",
    "    f       = (2.3877057700850656e+02, 2.3903223316525276e+02),\n",
    "    c       = (3.1846939219741773e+02, 2.4685137381795201e+02),\n",
    "    distort_coeffs = distortion_coeffs_left,\n",
    "    camera_to_world_xf = np.eye(4)\n",
    ")\n",
    "\n",
    "\n",
    "distortion_coeffs_right = (\n",
    "    -3.6790400486095221e-02, \n",
    "    -8.2041573433038941e-03,\n",
    "    1.0552974220937024e-03, \n",
    "    -2.5841665172692902e-04,\n",
    "    0, 0, 0, 0\n",
    ")\n",
    "camera_to_world_xf_right = np.zeros((4, 4))\n",
    "camera_to_world_xf_right[:3, :3] = [\n",
    "    [9.9999470555416226e-01, 1.1490100298631428e-03, 3.0444440536135159e-03,],\n",
    "    [-1.1535052313709361e-03, 9.9999824663038117e-01, 1.4751819698614872e-03,],\n",
    "    [-3.0427437166985561e-03, -1.4786859417328980e-03, 9.9999427758290704e-01 ],\n",
    "]\n",
    "#camera_to_world_xf_right[:3, 3] = [\n",
    "cam_right = lib.common.camera.Fisheye62CameraModel(\n",
    "    width   = IMG_WIDTH,\n",
    "    height  = IMG_HEIGHT,\n",
    "    f       = (2.3952183485043457e+02, 2.3981379751051574e+02),\n",
    "    c       = (3.1286224145189811e+02, 2.5158397962108106e+02),\n",
    "    distort_coeffs = distortion_coeffs_right,\n",
    "    camera_to_world_xf = camera_to_world_xf_right\n",
    ")"
   ]
  },
  {
   "cell_type": "code",
   "execution_count": 19,
   "metadata": {},
   "outputs": [],
   "source": [
    "\n",
    "from lib.models.model_loader import load_pretrained_model\n",
    "from lib.tracker.tracker import HandTracker, HandTrackerOpts, InputFrame, ViewData\n"
   ]
  },
  {
   "cell_type": "code",
   "execution_count": 22,
   "metadata": {},
   "outputs": [],
   "source": [
    "model_name = \"pretrained_weights.torch\"\n",
    "model_path = os.path.join(\".\", \"pretrained_models\", model_name)\n",
    "model = load_pretrained_model(model_path)\n",
    "model.eval()\n",
    "tracker = HandTracker(model, HandTrackerOpts())"
   ]
  },
  {
   "cell_type": "code",
   "execution_count": null,
   "metadata": {},
   "outputs": [],
   "source": [
    "tracker."
   ]
  },
  {
   "cell_type": "code",
   "execution_count": null,
   "metadata": {},
   "outputs": [],
   "source": []
  },
  {
   "cell_type": "code",
   "execution_count": null,
   "metadata": {},
   "outputs": [],
   "source": []
  },
  {
   "cell_type": "code",
   "execution_count": null,
   "metadata": {},
   "outputs": [],
   "source": []
  }
 ],
 "metadata": {
  "kernelspec": {
   "display_name": "umetrack",
   "language": "python",
   "name": "python3"
  },
  "language_info": {
   "codemirror_mode": {
    "name": "ipython",
    "version": 3
   },
   "file_extension": ".py",
   "mimetype": "text/x-python",
   "name": "python",
   "nbconvert_exporter": "python",
   "pygments_lexer": "ipython3",
   "version": "3.9.12"
  }
 },
 "nbformat": 4,
 "nbformat_minor": 2
}
