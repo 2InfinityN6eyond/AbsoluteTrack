{
 "cells": [
  {
   "cell_type": "code",
   "execution_count": 1,
   "metadata": {},
   "outputs": [],
   "source": [
    "import numpy as np\n",
    "import torch"
   ]
  },
  {
   "cell_type": "code",
   "execution_count": 2,
   "metadata": {},
   "outputs": [
    {
     "data": {
      "text/plain": [
       "array([[ 0,  1,  2],\n",
       "       [ 3,  4,  5],\n",
       "       [ 6,  7,  8],\n",
       "       [ 9, 10, 11],\n",
       "       [12, 13, 14],\n",
       "       [15, 16, 17],\n",
       "       [18, 19, 20],\n",
       "       [21, 22, 23],\n",
       "       [24, 25, 26],\n",
       "       [27, 28, 29]])"
      ]
     },
     "execution_count": 2,
     "metadata": {},
     "output_type": "execute_result"
    }
   ],
   "source": [
    "arr1 = np.arange(30).reshape(10, 3)\n",
    "arr1"
   ]
  },
  {
   "cell_type": "code",
   "execution_count": 6,
   "metadata": {},
   "outputs": [
    {
     "data": {
      "text/plain": [
       "(3,)"
      ]
     },
     "execution_count": 6,
     "metadata": {},
     "output_type": "execute_result"
    }
   ],
   "source": [
    "(\n",
    "    (arr1.min(axis=0) + arr1.max(axis=0)) / 2\n",
    ").shape"
   ]
  },
  {
   "cell_type": "code",
   "execution_count": 7,
   "metadata": {},
   "outputs": [
    {
     "data": {
      "text/plain": [
       "array([[ 0,  0],\n",
       "       [ 1,  0],\n",
       "       [ 2,  0],\n",
       "       [ 3,  0],\n",
       "       [ 4,  0],\n",
       "       [ 5,  0],\n",
       "       [ 6,  0],\n",
       "       [ 7,  0],\n",
       "       [ 8,  0],\n",
       "       [ 9,  0],\n",
       "       [ 0,  1],\n",
       "       [ 1,  1],\n",
       "       [ 2,  1],\n",
       "       [ 3,  1],\n",
       "       [ 4,  1],\n",
       "       [ 5,  1],\n",
       "       [ 6,  1],\n",
       "       [ 7,  1],\n",
       "       [ 8,  1],\n",
       "       [ 9,  1],\n",
       "       [ 0,  2],\n",
       "       [ 1,  2],\n",
       "       [ 2,  2],\n",
       "       [ 3,  2],\n",
       "       [ 4,  2],\n",
       "       [ 5,  2],\n",
       "       [ 6,  2],\n",
       "       [ 7,  2],\n",
       "       [ 8,  2],\n",
       "       [ 9,  2],\n",
       "       [ 0,  3],\n",
       "       [ 1,  3],\n",
       "       [ 2,  3],\n",
       "       [ 3,  3],\n",
       "       [ 4,  3],\n",
       "       [ 5,  3],\n",
       "       [ 6,  3],\n",
       "       [ 7,  3],\n",
       "       [ 8,  3],\n",
       "       [ 9,  3],\n",
       "       [ 0,  4],\n",
       "       [ 1,  4],\n",
       "       [ 2,  4],\n",
       "       [ 3,  4],\n",
       "       [ 4,  4],\n",
       "       [ 5,  4],\n",
       "       [ 6,  4],\n",
       "       [ 7,  4],\n",
       "       [ 8,  4],\n",
       "       [ 9,  4],\n",
       "       [ 0,  5],\n",
       "       [ 1,  5],\n",
       "       [ 2,  5],\n",
       "       [ 3,  5],\n",
       "       [ 4,  5],\n",
       "       [ 5,  5],\n",
       "       [ 6,  5],\n",
       "       [ 7,  5],\n",
       "       [ 8,  5],\n",
       "       [ 9,  5],\n",
       "       [ 0,  6],\n",
       "       [ 1,  6],\n",
       "       [ 2,  6],\n",
       "       [ 3,  6],\n",
       "       [ 4,  6],\n",
       "       [ 5,  6],\n",
       "       [ 6,  6],\n",
       "       [ 7,  6],\n",
       "       [ 8,  6],\n",
       "       [ 9,  6],\n",
       "       [ 0,  7],\n",
       "       [ 1,  7],\n",
       "       [ 2,  7],\n",
       "       [ 3,  7],\n",
       "       [ 4,  7],\n",
       "       [ 5,  7],\n",
       "       [ 6,  7],\n",
       "       [ 7,  7],\n",
       "       [ 8,  7],\n",
       "       [ 9,  7],\n",
       "       [ 0,  8],\n",
       "       [ 1,  8],\n",
       "       [ 2,  8],\n",
       "       [ 3,  8],\n",
       "       [ 4,  8],\n",
       "       [ 5,  8],\n",
       "       [ 6,  8],\n",
       "       [ 7,  8],\n",
       "       [ 8,  8],\n",
       "       [ 9,  8],\n",
       "       [ 0,  9],\n",
       "       [ 1,  9],\n",
       "       [ 2,  9],\n",
       "       [ 3,  9],\n",
       "       [ 4,  9],\n",
       "       [ 5,  9],\n",
       "       [ 6,  9],\n",
       "       [ 7,  9],\n",
       "       [ 8,  9],\n",
       "       [ 9,  9],\n",
       "       [ 0, 10],\n",
       "       [ 1, 10],\n",
       "       [ 2, 10],\n",
       "       [ 3, 10],\n",
       "       [ 4, 10],\n",
       "       [ 5, 10],\n",
       "       [ 6, 10],\n",
       "       [ 7, 10],\n",
       "       [ 8, 10],\n",
       "       [ 9, 10],\n",
       "       [ 0, 11],\n",
       "       [ 1, 11],\n",
       "       [ 2, 11],\n",
       "       [ 3, 11],\n",
       "       [ 4, 11],\n",
       "       [ 5, 11],\n",
       "       [ 6, 11],\n",
       "       [ 7, 11],\n",
       "       [ 8, 11],\n",
       "       [ 9, 11],\n",
       "       [ 0, 12],\n",
       "       [ 1, 12],\n",
       "       [ 2, 12],\n",
       "       [ 3, 12],\n",
       "       [ 4, 12],\n",
       "       [ 5, 12],\n",
       "       [ 6, 12],\n",
       "       [ 7, 12],\n",
       "       [ 8, 12],\n",
       "       [ 9, 12],\n",
       "       [ 0, 13],\n",
       "       [ 1, 13],\n",
       "       [ 2, 13],\n",
       "       [ 3, 13],\n",
       "       [ 4, 13],\n",
       "       [ 5, 13],\n",
       "       [ 6, 13],\n",
       "       [ 7, 13],\n",
       "       [ 8, 13],\n",
       "       [ 9, 13],\n",
       "       [ 0, 14],\n",
       "       [ 1, 14],\n",
       "       [ 2, 14],\n",
       "       [ 3, 14],\n",
       "       [ 4, 14],\n",
       "       [ 5, 14],\n",
       "       [ 6, 14],\n",
       "       [ 7, 14],\n",
       "       [ 8, 14],\n",
       "       [ 9, 14],\n",
       "       [ 0, 15],\n",
       "       [ 1, 15],\n",
       "       [ 2, 15],\n",
       "       [ 3, 15],\n",
       "       [ 4, 15],\n",
       "       [ 5, 15],\n",
       "       [ 6, 15],\n",
       "       [ 7, 15],\n",
       "       [ 8, 15],\n",
       "       [ 9, 15],\n",
       "       [ 0, 16],\n",
       "       [ 1, 16],\n",
       "       [ 2, 16],\n",
       "       [ 3, 16],\n",
       "       [ 4, 16],\n",
       "       [ 5, 16],\n",
       "       [ 6, 16],\n",
       "       [ 7, 16],\n",
       "       [ 8, 16],\n",
       "       [ 9, 16],\n",
       "       [ 0, 17],\n",
       "       [ 1, 17],\n",
       "       [ 2, 17],\n",
       "       [ 3, 17],\n",
       "       [ 4, 17],\n",
       "       [ 5, 17],\n",
       "       [ 6, 17],\n",
       "       [ 7, 17],\n",
       "       [ 8, 17],\n",
       "       [ 9, 17],\n",
       "       [ 0, 18],\n",
       "       [ 1, 18],\n",
       "       [ 2, 18],\n",
       "       [ 3, 18],\n",
       "       [ 4, 18],\n",
       "       [ 5, 18],\n",
       "       [ 6, 18],\n",
       "       [ 7, 18],\n",
       "       [ 8, 18],\n",
       "       [ 9, 18],\n",
       "       [ 0, 19],\n",
       "       [ 1, 19],\n",
       "       [ 2, 19],\n",
       "       [ 3, 19],\n",
       "       [ 4, 19],\n",
       "       [ 5, 19],\n",
       "       [ 6, 19],\n",
       "       [ 7, 19],\n",
       "       [ 8, 19],\n",
       "       [ 9, 19]])"
      ]
     },
     "execution_count": 7,
     "metadata": {},
     "output_type": "execute_result"
    }
   ],
   "source": [
    "px, py = np.meshgrid(np.arange(10), np.arange(20))\n",
    "np.column_stack([px.flatten(), py.flatten()])"
   ]
  },
  {
   "cell_type": "code",
   "execution_count": 2,
   "metadata": {},
   "outputs": [],
   "source": [
    "import numpy as np"
   ]
  },
  {
   "cell_type": "code",
   "execution_count": 4,
   "metadata": {},
   "outputs": [
    {
     "name": "stderr",
     "output_type": "stream",
     "text": [
      "/tmp/ipykernel_127524/4098632852.py:1: RuntimeWarning: invalid value encountered in arcsin\n",
      "  np.arcsin(np.pi)\n"
     ]
    },
    {
     "data": {
      "text/plain": [
       "nan"
      ]
     },
     "execution_count": 4,
     "metadata": {},
     "output_type": "execute_result"
    }
   ],
   "source": [
    "np.arcsin(np.pi)"
   ]
  },
  {
   "cell_type": "code",
   "execution_count": 8,
   "metadata": {},
   "outputs": [
    {
     "name": "stdout",
     "output_type": "stream",
     "text": [
      "[0 1 2 0 1 2 0 1 2 0 1 2 0 1 2 0 1 2]\n",
      "[0 0 0 1 1 1 2 2 2 3 3 3 4 4 4 5 5 5]\n"
     ]
    }
   ],
   "source": [
    "px, py = np.meshgrid(np.arange(3), np.arange(6))\n",
    "\n",
    "x, y = np.moveaxis(\n",
    "    np.column_stack([px.flatten(), py.flatten()]),\n",
    "    -1, 0\n",
    ")\n",
    "print(x)\n",
    "print(y)"
   ]
  },
  {
   "cell_type": "code",
   "execution_count": null,
   "metadata": {},
   "outputs": [],
   "source": [
    "\n"
   ]
  },
  {
   "cell_type": "code",
   "execution_count": null,
   "metadata": {},
   "outputs": [],
   "source": []
  },
  {
   "cell_type": "code",
   "execution_count": 18,
   "metadata": {},
   "outputs": [
    {
     "data": {
      "text/plain": [
       "('p1',)"
      ]
     },
     "execution_count": 18,
     "metadata": {},
     "output_type": "execute_result"
    }
   ],
   "source": [
    "from typing import NamedTuple\n",
    "\n",
    "class GhostCL(NamedTuple) :\n",
    "    p1: float\n",
    "    \n",
    "    \n",
    "    \n",
    "cl = GhostCL(p1=1)\n",
    "cl._fields"
   ]
  },
  {
   "cell_type": "code",
   "execution_count": null,
   "metadata": {},
   "outputs": [],
   "source": []
  }
 ],
 "metadata": {
  "kernelspec": {
   "display_name": "umetrack",
   "language": "python",
   "name": "python3"
  },
  "language_info": {
   "codemirror_mode": {
    "name": "ipython",
    "version": 3
   },
   "file_extension": ".py",
   "mimetype": "text/x-python",
   "name": "python",
   "nbconvert_exporter": "python",
   "pygments_lexer": "ipython3",
   "version": "3.9.12"
  }
 },
 "nbformat": 4,
 "nbformat_minor": 2
}
