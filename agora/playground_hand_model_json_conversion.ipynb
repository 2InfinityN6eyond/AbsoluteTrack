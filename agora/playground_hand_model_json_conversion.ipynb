{
 "cells": [
  {
   "cell_type": "code",
   "execution_count": 11,
   "metadata": {},
   "outputs": [
    {
     "name": "stdout",
     "output_type": "stream",
     "text": [
      "/media/hjp/FAAC278CAC27430D/HJP/KUAICV/Hand/AbsoluteTrack\n"
     ]
    }
   ],
   "source": [
    "cd .."
   ]
  },
  {
   "cell_type": "code",
   "execution_count": 17,
   "metadata": {},
   "outputs": [],
   "source": [
    "import torch\n",
    "from typing import Optional, NamedTuple, Dict, Any\n",
    "import json\n",
    "\n",
    "class HandModel(NamedTuple):\n",
    "    joint_rotation_axes: torch.Tensor\n",
    "    joint_rest_positions: torch.Tensor\n",
    "    joint_frame_index: torch.Tensor\n",
    "    joint_parent: torch.Tensor\n",
    "    joint_first_child: torch.Tensor\n",
    "    joint_next_sibling: torch.Tensor\n",
    "    landmark_rest_positions: torch.Tensor\n",
    "    landmark_rest_bone_weights: torch.Tensor\n",
    "    landmark_rest_bone_indices: torch.Tensor\n",
    "    hand_scale: Optional[torch.Tensor]\n",
    "    mesh_vertices: Optional[torch.Tensor] = None\n",
    "    mesh_triangles: Optional[torch.Tensor] = None\n",
    "    dense_bone_weights: Optional[torch.Tensor] = None\n",
    "    joint_limits: Optional[torch.Tensor] = None\n",
    "\n",
    "    @classmethod\n",
    "    def from_json(cls, json_data: Dict[str, Any]) -> 'HandModel':\n",
    "        return cls(**{\n",
    "            key: torch.tensor(value) if value is not None else None\n",
    "            for key, value in json_data.items()\n",
    "        })\n",
    "\n",
    "    def to_json(self) -> Dict[str, Any]:\n",
    "        return {\n",
    "            key: value.tolist() if isinstance(value, torch.Tensor) else value\n",
    "            for key, value in self._asdict().items()\n",
    "        }\n",
    "\n",
    "DATA_PATH = \"dataset/generic_hand_model.json\"\n",
    "\n",
    "with open(DATA_PATH, 'r') as f:\n",
    "    data = json.load(f)\n",
    "\n",
    "hand_model = HandModel.from_json(data)\n"
   ]
  },
  {
   "cell_type": "code",
   "execution_count": 9,
   "metadata": {},
   "outputs": [
    {
     "data": {
      "text/plain": [
       "tensor([[ 96.8963, -51.4044,  85.8159],\n",
       "        [180.0303, -10.5735,  17.9397],\n",
       "        [189.8625,  -6.5914,  -9.4007],\n",
       "        [175.6883, -14.2078, -38.4793],\n",
       "        [147.6287, -21.1937, -54.5725],\n",
       "        [  0.0000,   0.0000,   0.0000],\n",
       "        [ 59.2187, -34.3076,  44.9557],\n",
       "        [ 83.1233, -43.7118,  66.9126],\n",
       "        [ 95.9962,  -7.3165,  23.5507],\n",
       "        [133.7545, -10.5505,  22.0219],\n",
       "        [157.9200, -12.7690,  20.6916],\n",
       "        [ 95.6466,  -2.5432,   1.7259],\n",
       "        [138.1155,  -7.0214,  -2.6403],\n",
       "        [165.3556,  -9.7928,  -5.6859],\n",
       "        [ 88.6938,  -6.5293, -17.4652],\n",
       "        [126.3144, -10.8848, -26.7611],\n",
       "        [151.8879, -14.1686, -33.1922],\n",
       "        [ 77.8958, -13.6912, -35.0541],\n",
       "        [107.4029, -18.1173, -42.3675],\n",
       "        [126.4032, -20.9719, -48.9549],\n",
       "        [ 81.7603, -20.5398,   4.2419]])"
      ]
     },
     "execution_count": 9,
     "metadata": {},
     "output_type": "execute_result"
    }
   ],
   "source": [
    "hand_model.landmark_rest_positions"
   ]
  },
  {
   "cell_type": "code",
   "execution_count": 16,
   "metadata": {},
   "outputs": [],
   "source": [
    "from lib.tracker.video_pose_data import SyncedImagePoseStream\n",
    "\n",
    "DATA_PATH = \"sample_data/recording_00.mp4\"\n",
    "image_pose_stream = SyncedImagePoseStream(DATA_PATH)\n",
    "sample_hand_model = image_pose_stream._hand_pose_labels.hand_model\n"
   ]
  },
  {
   "cell_type": "code",
   "execution_count": 18,
   "metadata": {},
   "outputs": [],
   "source": [
    "if 0 :\n",
    "    print(\"dd\")"
   ]
  }
 ],
 "metadata": {
  "kernelspec": {
   "display_name": "umetrack",
   "language": "python",
   "name": "python3"
  },
  "language_info": {
   "codemirror_mode": {
    "name": "ipython",
    "version": 3
   },
   "file_extension": ".py",
   "mimetype": "text/x-python",
   "name": "python",
   "nbconvert_exporter": "python",
   "pygments_lexer": "ipython3",
   "version": "3.9.12"
  }
 },
 "nbformat": 4,
 "nbformat_minor": 2
}
